{
 "cells": [
  {
   "cell_type": "code",
   "execution_count": 4,
   "id": "55056964",
   "metadata": {},
   "outputs": [
    {
     "name": "stdout",
     "output_type": "stream",
     "text": [
      "Sum : 12\n",
      "Subtraction : -4\n",
      "Multiplication : 32\n",
      "Division : 0.5\n"
     ]
    }
   ],
   "source": [
    "class calculator():\n",
    "  def __init__(self,x,y):\n",
    "    self.x=x\n",
    "    self.y=y\n",
    "\n",
    "  def add(self):\n",
    "    print(\"Sum :\",self.x+self.y)\n",
    "\n",
    "  def subtraction(self):\n",
    "    print(\"Subtraction :\",self.x-self.y)  \n",
    "\n",
    "  def multiplication(self):\n",
    "    print(\"Multiplication :\",self.x*self.y)\n",
    "\n",
    "  def division(self):\n",
    "    print(\"Division :\",self.x/self.y)  \n",
    "#x=int(input(\"Enter first number : \"))\n",
    "#y=int(input(\"Enter second number : \"))\n",
    "#n1=calculator(x,y) # object \n",
    "n1=calculator(4,8) # object \n",
    "\n",
    "n1.add()\n",
    "n1.subtraction()\n",
    "n1.multiplication()\n",
    "n1.division()"
   ]
  },
  {
   "cell_type": "code",
   "execution_count": null,
   "id": "4830da50",
   "metadata": {},
   "outputs": [],
   "source": []
  },
  {
   "cell_type": "code",
   "execution_count": null,
   "id": "efc498d1",
   "metadata": {},
   "outputs": [],
   "source": []
  }
 ],
 "metadata": {
  "kernelspec": {
   "display_name": "Python 3 (ipykernel)",
   "language": "python",
   "name": "python3"
  },
  "language_info": {
   "codemirror_mode": {
    "name": "ipython",
    "version": 3
   },
   "file_extension": ".py",
   "mimetype": "text/x-python",
   "name": "python",
   "nbconvert_exporter": "python",
   "pygments_lexer": "ipython3",
   "version": "3.9.12"
  }
 },
 "nbformat": 4,
 "nbformat_minor": 5
}
