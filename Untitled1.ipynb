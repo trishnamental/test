{
 "cells": [
  {
   "cell_type": "code",
   "execution_count": 1,
   "id": "08b28d46",
   "metadata": {},
   "outputs": [
    {
     "name": "stdout",
     "output_type": "stream",
     "text": [
      "4\n"
     ]
    }
   ],
   "source": [
    "#string operations\n",
    "string_1 = \"Eficens dallas! here right now\"\n",
    "print(string_1.index(\"e\"))"
   ]
  },
  {
   "cell_type": "code",
   "execution_count": 2,
   "id": "ff54dccd",
   "metadata": {},
   "outputs": [
    {
     "name": "stdout",
     "output_type": "stream",
     "text": [
      "30\n",
      "2\n"
     ]
    }
   ],
   "source": [
    "print(len(string_1))\n",
    "print(string_1.count(\"a\"))"
   ]
  },
  {
   "cell_type": "code",
   "execution_count": 12,
   "id": "e1ab57bf",
   "metadata": {},
   "outputs": [
    {
     "name": "stdout",
     "output_type": "stream",
     "text": [
      "dallas!\n",
      "dallas! here right now\n",
      "22\n",
      "fe lsheito\n",
      "won thgir ereh !sallad snecifE\n"
     ]
    }
   ],
   "source": [
    "#string selection/ slicing\n",
    "print(string_1[8:15])\n",
    "\n",
    "print(string_1[8:])\n",
    "print(len(string_1)-8)\n",
    "\n",
    "print(string_1[1:50:3])\n",
    "\n",
    "print(string_1[::-1])\n"
   ]
  },
  {
   "cell_type": "code",
   "execution_count": 13,
   "id": "d965f9cf",
   "metadata": {},
   "outputs": [
    {
     "name": "stdout",
     "output_type": "stream",
     "text": [
      "EFICENS DALLAS! HERE RIGHT NOW\n",
      "eficens dallas! here right now\n"
     ]
    }
   ],
   "source": [
    "#upper\n",
    "print(string_1.upper())\n",
    "print(string_1.lower())"
   ]
  },
  {
   "cell_type": "code",
   "execution_count": 16,
   "id": "19c4085f",
   "metadata": {},
   "outputs": [
    {
     "name": "stdout",
     "output_type": "stream",
     "text": [
      "['Eficen', ' dalla', '! here right now']\n"
     ]
    }
   ],
   "source": [
    "#splint\n",
    "print(string_1.split('s'))"
   ]
  },
  {
   "cell_type": "code",
   "execution_count": null,
   "id": "add13a6d",
   "metadata": {},
   "outputs": [],
   "source": []
  }
 ],
 "metadata": {
  "kernelspec": {
   "display_name": "Python 3 (ipykernel)",
   "language": "python",
   "name": "python3"
  },
  "language_info": {
   "codemirror_mode": {
    "name": "ipython",
    "version": 3
   },
   "file_extension": ".py",
   "mimetype": "text/x-python",
   "name": "python",
   "nbconvert_exporter": "python",
   "pygments_lexer": "ipython3",
   "version": "3.9.12"
  }
 },
 "nbformat": 4,
 "nbformat_minor": 5
}
